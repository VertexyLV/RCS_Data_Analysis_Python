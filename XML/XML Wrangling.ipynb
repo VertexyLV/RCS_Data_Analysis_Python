{
 "cells": [
  {
   "cell_type": "markdown",
   "metadata": {},
   "source": [
    "# Wrangling XML"
   ]
  },
  {
   "cell_type": "code",
   "execution_count": 1,
   "metadata": {},
   "outputs": [],
   "source": [
    "with open('CustomersOrdersInNamespace.xml') as f:\n",
    "    xmlcontent = f.read()"
   ]
  },
  {
   "cell_type": "code",
   "execution_count": 2,
   "metadata": {},
   "outputs": [],
   "source": [
    "#!pip install xmltodict"
   ]
  },
  {
   "cell_type": "code",
   "execution_count": 3,
   "metadata": {},
   "outputs": [],
   "source": [
    "import xmltodict"
   ]
  },
  {
   "cell_type": "code",
   "execution_count": 4,
   "metadata": {},
   "outputs": [],
   "source": [
    "import json\n",
    "import pandas as pd"
   ]
  },
  {
   "cell_type": "code",
   "execution_count": 5,
   "metadata": {},
   "outputs": [],
   "source": [
    "mydict = xmltodict.parse(xmlcontent)"
   ]
  },
  {
   "cell_type": "code",
   "execution_count": 6,
   "metadata": {},
   "outputs": [
    {
     "data": {
      "text/plain": [
       "collections.OrderedDict"
      ]
     },
     "execution_count": 6,
     "metadata": {},
     "output_type": "execute_result"
    }
   ],
   "source": [
    "type(mydict)"
   ]
  },
  {
   "cell_type": "code",
   "execution_count": 7,
   "metadata": {},
   "outputs": [],
   "source": [
    "custlist = mydict['Root']['Customers']['Customer']"
   ]
  },
  {
   "cell_type": "code",
   "execution_count": 8,
   "metadata": {},
   "outputs": [
    {
     "data": {
      "text/plain": [
       "OrderedDict([('@CustomerID', 'GREAL'),\n",
       "             ('CompanyName', 'Great Lakes Food Market'),\n",
       "             ('ContactName', 'Howard Snyder'),\n",
       "             ('ContactTitle', 'Marketing Manager'),\n",
       "             ('Phone', '(503) 555-7555'),\n",
       "             ('FullAddress',\n",
       "              OrderedDict([('Address', '2732 Baker Blvd.'),\n",
       "                           ('City', 'Eugene'),\n",
       "                           ('Region', 'OR'),\n",
       "                           ('PostalCode', '97403'),\n",
       "                           ('Country', 'USA')]))])"
      ]
     },
     "execution_count": 8,
     "metadata": {},
     "output_type": "execute_result"
    }
   ],
   "source": [
    "buyer = mydict['Root']['Customers']['Customer'][0]\n",
    "buyer"
   ]
  },
  {
   "cell_type": "code",
   "execution_count": 9,
   "metadata": {},
   "outputs": [
    {
     "data": {
      "text/plain": [
       "OrderedDict([('Address', '2732 Baker Blvd.'),\n",
       "             ('City', 'Eugene'),\n",
       "             ('Region', 'OR'),\n",
       "             ('PostalCode', '97403'),\n",
       "             ('Country', 'USA')])"
      ]
     },
     "execution_count": 9,
     "metadata": {},
     "output_type": "execute_result"
    }
   ],
   "source": [
    "buyer['FullAddress']"
   ]
  },
  {
   "cell_type": "code",
   "execution_count": null,
   "metadata": {},
   "outputs": [],
   "source": [
    "#Important idiom on how to go over key,value pairs in a dictionary!\n",
    "for key,value in buyer['FullAddress'].items():\n",
    "    print(f'key:\\t{key},   \\tvalue:\\t{value}')"
   ]
  },
  {
   "cell_type": "code",
   "execution_count": null,
   "metadata": {},
   "outputs": [],
   "source": [
    "for key,value in buyer['FullAddress'].items():\n",
    "    buyer[key] = value\n",
    "buyer"
   ]
  },
  {
   "cell_type": "code",
   "execution_count": null,
   "metadata": {},
   "outputs": [],
   "source": [
    "# https://stackoverflow.com/questions/11277432/how-to-remove-a-key-from-a-python-dictionary\n",
    "buyer.pop('FullAddress')\n",
    "# Returns what we popped but we do not need it anymore"
   ]
  },
  {
   "cell_type": "code",
   "execution_count": null,
   "metadata": {},
   "outputs": [],
   "source": [
    "buyer"
   ]
  },
  {
   "cell_type": "code",
   "execution_count": null,
   "metadata": {},
   "outputs": [],
   "source": [
    "for cust in custlist[1:]: #The first one with index 0 we already processed!\n",
    "    for key,value in cust['FullAddress'].items(): # could use a check if such a key exists first\n",
    "        buyer[key] = value\n",
    "    cust.pop('FullAddress')\n",
    "custlist\n",
    "    "
   ]
  },
  {
   "cell_type": "code",
   "execution_count": null,
   "metadata": {},
   "outputs": [],
   "source": [
    "df = pd.DataFrame(custlist)\n",
    "df"
   ]
  },
  {
   "cell_type": "code",
   "execution_count": null,
   "metadata": {},
   "outputs": [],
   "source": [
    "orders =  mydict['Root']['Orders']['Order']\n",
    "len(orders),orders[:3]"
   ]
  },
  {
   "cell_type": "code",
   "execution_count": null,
   "metadata": {},
   "outputs": [],
   "source": [
    "def flatten_Dict_to_DF(dictlist,masterkey):\n",
    "    '''\n",
    "    Flattens dictionary within each dictionary in a list\n",
    "    dictlist[index][masterkey] should contain the dictionary to be flattened\n",
    "    original masterkey holding the child dictionary is destroyed\n",
    "    Returns Pandas dataframe created from the list of dictionaries\n",
    "    '''\n",
    "    \n",
    "    for rootdict in dictlist:\n",
    "        if masterkey not in rootdict: #We might want to add a log or print to show that no key was found\n",
    "            continue\n",
    "        for key,value in rootdict[masterkey].items(): # could use a check if such a key exists first\n",
    "            if key in rootdict:\n",
    "                print(f'Careful, we do not want to overwrite this key{key}.')\n",
    "            rootdict[key] = value\n",
    "        rootdict.pop(masterkey)\n",
    "        \n",
    "    return pd.DataFrame(dictlist)\n",
    "        \n",
    "    "
   ]
  },
  {
   "cell_type": "code",
   "execution_count": null,
   "metadata": {},
   "outputs": [],
   "source": [
    "flatten_Dict_to_DF(mydict['Root']['Orders']['Order'],'ShipInfo')"
   ]
  },
  {
   "cell_type": "code",
   "execution_count": null,
   "metadata": {},
   "outputs": [],
   "source": [
    "oframe = flatten_Dict_to_DF(mydict['Root']['Orders']['Order'],'ShipInfo')\n",
    "oframe"
   ]
  },
  {
   "cell_type": "code",
   "execution_count": null,
   "metadata": {},
   "outputs": [],
   "source": [
    "bframe = flatten_Dict_to_DF(custlist, 'FullAddress')\n",
    "bframe"
   ]
  },
  {
   "cell_type": "code",
   "execution_count": null,
   "metadata": {},
   "outputs": [],
   "source": [
    "writer = pd.ExcelWriter('AdventureShop.xlsx') # could use with syntax"
   ]
  },
  {
   "cell_type": "code",
   "execution_count": null,
   "metadata": {},
   "outputs": [],
   "source": [
    "bframe.to_excel(writer, 'Sheet1')"
   ]
  },
  {
   "cell_type": "code",
   "execution_count": null,
   "metadata": {},
   "outputs": [],
   "source": [
    "oframe.to_excel(writer, 'Sheet2')"
   ]
  },
  {
   "cell_type": "code",
   "execution_count": null,
   "metadata": {},
   "outputs": [],
   "source": [
    "writer.save()"
   ]
  },
  {
   "cell_type": "code",
   "execution_count": null,
   "metadata": {},
   "outputs": [],
   "source": [
    "# This file can be sent to email automaticaly with library smtplib.\n",
    "\n",
    "import smtplib"
   ]
  }
 ],
 "metadata": {
  "kernelspec": {
   "display_name": "Python 3",
   "language": "python",
   "name": "python3"
  },
  "language_info": {
   "codemirror_mode": {
    "name": "ipython",
    "version": 3
   },
   "file_extension": ".py",
   "mimetype": "text/x-python",
   "name": "python",
   "nbconvert_exporter": "python",
   "pygments_lexer": "ipython3",
   "version": "3.7.0"
  }
 },
 "nbformat": 4,
 "nbformat_minor": 2
}
